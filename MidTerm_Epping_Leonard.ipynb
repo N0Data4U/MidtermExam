{
 "cells": [
  {
   "cell_type": "markdown",
   "metadata": {},
   "source": [
    "### MidTerm Exam"
   ]
  },
  {
   "cell_type": "code",
   "execution_count": 63,
   "metadata": {},
   "outputs": [],
   "source": [
    "import seaborn as sns\n",
    "import pandas as pd\n",
    "import zipfile\n",
    "import numpy as np\n",
    "import math\n",
    "import datetime"
   ]
  },
  {
   "cell_type": "code",
   "execution_count": 76,
   "metadata": {},
   "outputs": [],
   "source": [
    "with zipfile.ZipFile(\"28864038.zip\") as z:  \n",
    "    with z.open(\"data/AON.csv\") as f: \n",
    "        AON = pd.read_csv(f,index_col=['Date'], parse_dates=['Date']) #, date_parser=lambda d: pd.to_datetime(d, format=\"%y-%m-%d\")\n",
    "    with z.open(\"data/FDX.csv\") as f: \n",
    "        FDX = pd.read_csv(f,index_col=['Date'], parse_dates=['Date'])\n",
    "    with z.open(\"data/INVH.csv\") as f: \n",
    "        INVH = pd.read_csv(f,index_col=['Date'], parse_dates=['Date'])\n",
    "    with z.open(\"data/KDP.csv\") as f: \n",
    "        KDP = pd.read_csv(f,index_col=['Date'], parse_dates=['Date'])\n",
    "    with z.open(\"data/SYK.csv\") as f: \n",
    "        SYK = pd.read_csv(f,index_col=['Date'], parse_dates=['Date'])"
   ]
  },
  {
   "cell_type": "markdown",
   "metadata": {},
   "source": [
    "## PART 1"
   ]
  },
  {
   "cell_type": "markdown",
   "metadata": {},
   "source": [
    "1. Is there a company that has no difference between the Close and Adj Close columns?\n",
    "What does it mean from the financial point of view for the stock (you can get bonus\n",
    "partial points)?"
   ]
  },
  {
   "cell_type": "code",
   "execution_count": 77,
   "metadata": {},
   "outputs": [
    {
     "name": "stdout",
     "output_type": "stream",
     "text": [
      "False\n",
      "False\n",
      "False\n",
      "False\n",
      "False\n"
     ]
    }
   ],
   "source": [
    "print(AON[AON[\"Close\"] == AON[\"Adj Close\"]].shape[0] == len(AON[\"Adj Close\"]))\n",
    "print(FDX[FDX[\"Close\"] == FDX[\"Adj Close\"]].shape[0] == len(FDX[\"Adj Close\"]))\n",
    "print(INVH[INVH[\"Close\"] == INVH[\"Adj Close\"]].shape[0] == len(INVH[\"Adj Close\"]))\n",
    "print(KDP[KDP[\"Close\"] == KDP[\"Adj Close\"]].shape[0] == len(KDP[\"Adj Close\"]))\n",
    "print(SYK[SYK[\"Close\"] == SYK[\"Adj Close\"]].shape[0] == len(SYK[\"Adj Close\"]))"
   ]
  },
  {
   "cell_type": "markdown",
   "metadata": {},
   "source": [
    "There is no data set where there is no difference between the \"Adj Close\" and the \"Close\" column. If there would be no difference between the two it would mean that the closing price is already clean, so everything the that the adjusted closing price accounts for (dividends...) is already \"included\" in the close price."
   ]
  },
  {
   "cell_type": "markdown",
   "metadata": {},
   "source": [
    "2. What is the highest and lowest price (Adj Close) each company recorded?"
   ]
  },
  {
   "cell_type": "code",
   "execution_count": 78,
   "metadata": {},
   "outputs": [],
   "source": [
    "companies = ['AON', 'FDX', 'INVH', 'KDP', 'SYK']\n",
    "ex_AON = [max(AON[\"Adj Close\"]), min(AON[\"Adj Close\"])]\n",
    "ex_FDX = [max(FDX[\"Adj Close\"]), min(FDX[\"Adj Close\"])]\n",
    "ex_INVH = [max(INVH[\"Adj Close\"]), min(INVH[\"Adj Close\"])]\n",
    "ex_KDP = [max(KDP[\"Adj Close\"]), min(KDP[\"Adj Close\"])]\n",
    "ex_SYK = [max(SYK[\"Adj Close\"]), min(SYK[\"Adj Close\"])]"
   ]
  },
  {
   "cell_type": "markdown",
   "metadata": {},
   "source": [
    "The above objects contain the minimum and maximum for each company, the first item [0] of the list object always refers to the maximum and the second item [1] to the minimum."
   ]
  },
  {
   "cell_type": "markdown",
   "metadata": {},
   "source": [
    "(1pt task) Calculate logarithmic returns from Adj Close. For each company report on\n",
    "its, min, max, mean, median of the return distribution."
   ]
  },
  {
   "cell_type": "code",
   "execution_count": 90,
   "metadata": {},
   "outputs": [
    {
     "name": "stdout",
     "output_type": "stream",
     "text": [
      "-0.18275934056110277 0.1321902249991478 0.0006142480648189757 0.0009881583152346884\n",
      "-0.24084700040183282 0.1346565013518637 -0.00014123841166971103 0.0006942548259791792\n",
      "-0.2685200886684873 0.11743856049046686 0.0003100771581096164 0.0008560924608562726\n",
      "-0.18019339152285196 0.20207621316823587 0.0008529045038359853 0.0008566684595416874\n",
      "-0.14047996587872724 0.12567461798570712 0.0003276299903862368 0.0010611907206503624\n"
     ]
    }
   ],
   "source": [
    "log_rt_AON = np.log(AON[\"Adj Close\"]).diff()\n",
    "log_rt_FDX = np.log(FDX[\"Adj Close\"]).diff()\n",
    "log_rt_INVH = np.log(INVH[\"Adj Close\"]).diff()\n",
    "log_rt_KDP = np.log(KDP[\"Adj Close\"]).diff()\n",
    "log_rt_SYK = np.log(SYK[\"Adj Close\"]).diff()\n",
    "\n",
    "log_list = [log_rt_AON, log_rt_FDX, log_rt_INVH, log_rt_KDP, log_rt_SYK]\n",
    "\n",
    "for i in log_list:\n",
    "    print(i.min(), i.max(), i.mean(), i.median())"
   ]
  },
  {
   "cell_type": "markdown",
   "metadata": {},
   "source": [
    "Each row corresponds to the min, max, mean and median of a company.\n",
    "The order of the rows corresponds to the order of the elements of the log_list object."
   ]
  },
  {
   "cell_type": "markdown",
   "metadata": {},
   "source": [
    "When did each company record the highest gain and highest loss for the day?\n",
    "(logarithmic loss). Hint: idxmax"
   ]
  },
  {
   "cell_type": "code",
   "execution_count": 95,
   "metadata": {},
   "outputs": [
    {
     "name": "stdout",
     "output_type": "stream",
     "text": [
      "2020-03-24 00:00:00\n",
      "2022-06-14 00:00:00\n",
      "2020-03-24 00:00:00\n",
      "2018-01-29 00:00:00\n",
      "2020-03-24 00:00:00\n"
     ]
    }
   ],
   "source": [
    "print(log_rt_AON.idxmax())\n",
    "print(log_rt_FDX.idxmax())\n",
    "print(log_rt_INVH.idxmax())\n",
    "print(log_rt_KDP.idxmax())\n",
    "print(log_rt_SYK.idxmax())\n",
    "# These values correspond to the days where the companys had their maximum log gain."
   ]
  },
  {
   "cell_type": "code",
   "execution_count": 96,
   "metadata": {},
   "outputs": [
    {
     "name": "stdout",
     "output_type": "stream",
     "text": [
      "2020-03-09 00:00:00\n",
      "2022-09-16 00:00:00\n",
      "2020-03-16 00:00:00\n",
      "2020-03-16 00:00:00\n",
      "2020-04-01 00:00:00\n"
     ]
    }
   ],
   "source": [
    "print(log_rt_AON.idxmin())\n",
    "print(log_rt_FDX.idxmin())\n",
    "print(log_rt_INVH.idxmin())\n",
    "print(log_rt_KDP.idxmin())\n",
    "print(log_rt_SYK.idxmin())\n",
    "# These values correspond to the days where the companys had their maximum log loss."
   ]
  },
  {
   "cell_type": "markdown",
   "metadata": {},
   "source": [
    "What is the average calendar weekly volume for each company? Hint: check how to\n",
    "resample pandas DF"
   ]
  },
  {
   "cell_type": "markdown",
   "metadata": {},
   "source": [
    "Which company recorded the highest total return over the whole period?"
   ]
  },
  {
   "cell_type": "code",
   "execution_count": 119,
   "metadata": {},
   "outputs": [
    {
     "data": {
      "text/plain": [
       "0.7727240655422714"
      ]
     },
     "execution_count": 119,
     "metadata": {},
     "output_type": "execute_result"
    }
   ],
   "source": [
    "log_rt_AON[:].sum()"
   ]
  },
  {
   "cell_type": "code",
   "execution_count": 120,
   "metadata": {},
   "outputs": [
    {
     "data": {
      "text/plain": [
       "(0.7727240655422714,\n",
       " -0.17767792188049647,\n",
       " 0.3900770649018974,\n",
       " 1.0721009613218335,\n",
       " 0.4121585279058859)"
      ]
     },
     "execution_count": 120,
     "metadata": {},
     "output_type": "execute_result"
    }
   ],
   "source": [
    "tot_rt_AON = log_rt_AON.sum()\n",
    "tot_rt_FDX = log_rt_FDX.sum()\n",
    "tot_rt_INVH = log_rt_INVH.sum()\n",
    "tot_rt_KDP = log_rt_KDP.sum()\n",
    "tot_rt_SYK = log_rt_SYK.sum()\n",
    "\n",
    "tot_rt_AON, tot_rt_FDX, tot_rt_INVH, tot_rt_KDP, tot_rt_SYK\n",
    "# KDP had the highest total log. return "
   ]
  },
  {
   "cell_type": "code",
   "execution_count": null,
   "metadata": {},
   "outputs": [],
   "source": []
  }
 ],
 "metadata": {
  "kernelspec": {
   "display_name": "base",
   "language": "python",
   "name": "python3"
  },
  "language_info": {
   "codemirror_mode": {
    "name": "ipython",
    "version": 3
   },
   "file_extension": ".py",
   "mimetype": "text/x-python",
   "name": "python",
   "nbconvert_exporter": "python",
   "pygments_lexer": "ipython3",
   "version": "3.11.5"
  }
 },
 "nbformat": 4,
 "nbformat_minor": 2
}
